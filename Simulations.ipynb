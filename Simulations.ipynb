{
 "cells": [
  {
   "cell_type": "code",
   "execution_count": 7,
   "id": "ca0146c7-1ce2-4455-b3a7-f660fc0c7d97",
   "metadata": {},
   "outputs": [],
   "source": [
    "import numpy as np\n",
    "import matplotlib.pyplot as plt\n",
    "from scipy.stats import norm\n",
    "from ipywidgets import widgets\n",
    "from IPython.display import display"
   ]
  },
  {
   "cell_type": "markdown",
   "id": "285c36e1-05ec-4c97-85de-f9847f6316b6",
   "metadata": {},
   "source": [
    "# Cardiac beliefs"
   ]
  },
  {
   "cell_type": "code",
   "execution_count": 8,
   "id": "8412cce0-5a31-4b5e-aa6b-8efcf57ede01",
   "metadata": {},
   "outputs": [],
   "source": [
    "cardiac_beliefs = widgets.VBox([\n",
    "    widgets.IntSlider(min= 20, max=120, value=60),\n",
    "    widgets.IntSlider(min= 0, max=40, value=1)\n",
    "])"
   ]
  },
  {
   "cell_type": "code",
   "execution_count": 9,
   "id": "09165ef8-4f07-4a4f-805b-5720c5856ff7",
   "metadata": {},
   "outputs": [
    {
     "data": {
      "application/vnd.jupyter.widget-view+json": {
       "model_id": "43452a715d3445fba37e6d7d760ea680",
       "version_major": 2,
       "version_minor": 0
      },
      "text/plain": [
       "VBox(children=(IntSlider(value=60, max=120, min=20), IntSlider(value=1, max=40)))"
      ]
     },
     "metadata": {},
     "output_type": "display_data"
    }
   ],
   "source": [
    "display(\n",
    "    cardiac_beliefs\n",
    ")"
   ]
  },
  {
   "cell_type": "code",
   "execution_count": 17,
   "id": "a4069e3e-7d80-4cd7-92ee-5e4ffe9e44a8",
   "metadata": {},
   "outputs": [
    {
     "data": {
      "image/png": "[encoded data removed]",
      "text/plain": [
       "<Figure size 432x288 with 1 Axes>"
      ]
     },
     "metadata": {
      "needs_background": "light"
     },
     "output_type": "display_data"
    }
   ],
   "source": [
    "plt.plot(\n",
    "    norm.cdf(\n",
    "        np.arange(0, 200, 1), \n",
    "        loc=cardiac_beliefs.children[0].value, \n",
    "        scale=cardiac_beliefs.children[1].value)\n",
    ");"
   ]
  },
  {
   "cell_type": "markdown",
   "id": "d0297c87-ce1e-4afa-8ee2-8c378406998b",
   "metadata": {},
   "source": [
    "# Heart rate"
   ]
  },
  {
   "cell_type": "code",
   "execution_count": 18,
   "id": "1a18b0e5-b41e-4f94-b50d-a8be208c9b4c",
   "metadata": {},
   "outputs": [],
   "source": [
    "mean_hr = 60\n",
    "std_hr = 10"
   ]
  },
  {
   "cell_type": "code",
   "execution_count": 19,
   "id": "d9c79ac8-9472-4e83-80b9-2059f56644ef",
   "metadata": {},
   "outputs": [
    {
     "data": {
      "text/plain": [
       "[<matplotlib.lines.Line2D at 0x20268e74b48>]"
      ]
     },
     "execution_count": 19,
     "metadata": {},
     "output_type": "execute_result"
    },
    {
     "data": {
      "image/png": "[encoded data removed]",
      "text/plain": [
       "<Figure size 432x288 with 1 Axes>"
      ]
     },
     "metadata": {
      "needs_background": "light"
     },
     "output_type": "display_data"
    }
   ],
   "source": [
    "plt.plot(\n",
    "    norm.pdf(np.arange(0, 200, .5), loc=mean_hr, scale=std_hr)\n",
    ")"
   ]
  },
  {
   "cell_type": "code",
   "execution_count": 20,
   "id": "580642bb-6188-45ed-8e39-a46afeb66c14",
   "metadata": {},
   "outputs": [],
   "source": [
    "def plot_psi(mean_hr, std_hr, mean_belief, std_belief, n_boot=50000):\n",
    "\n",
    "    # Sample heart rates\n",
    "    hr = np.random.normal(loc=mean_hr, scale=std_hr, size=(n_boot, 100))\n",
    "\n",
    "    # Alpha values being tested\n",
    "    alphas = np.repeat([np.arange(-50, 50)], n_boot, axis=0)\n",
    "\n",
    "    # Values of the tones being tested\n",
    "    tones = hr + alphas\n",
    "\n",
    "    # Responses provided by the participant\n",
    "    responses = norm.cdf(tones, loc=mean_belief, scale=std_belief)\n",
    "    \n",
    "    # Plot results\n",
    "    plt.plot(\n",
    "        np.arange(-50, 50),\n",
    "        responses.mean(0)\n",
    "    )\n",
    "    plt.show()"
   ]
  },
  {
   "cell_type": "code",
   "execution_count": 21,
   "id": "c9369e7a-6865-405a-9b18-0bcdda91396d",
   "metadata": {},
   "outputs": [
    {
     "data": {
      "application/vnd.jupyter.widget-view+json": {
       "model_id": "b533df82b54e469d88e4e6ede29a7b9d",
       "version_major": 2,
       "version_minor": 0
      },
      "text/plain": [
       "interactive(children=(IntSlider(value=70, description='mean_hr', max=120, min=20), FloatSlider(value=10.000499…"
      ]
     },
     "metadata": {},
     "output_type": "display_data"
    }
   ],
   "source": [
    "widgets.interact(plot_psi, mean_hr=(20, 120), std_hr=(.001, 20), mean_belief=(20, 120), std_belief=(.001, 20));"
   ]
  },
  {
   "cell_type": "markdown",
   "id": "2efa973c-f237-4bbc-b2e6-02b16d9b6ecf",
   "metadata": {},
   "source": [
    "# Bayesian modelling"
   ]
  },
  {
   "cell_type": "code",
   "execution_count": 22,
   "id": "0a49ea12-3472-47a8-993e-fa20c50bc430",
   "metadata": {},
   "outputs": [],
   "source": [
    "def data(mean_hr, std_hr, mean_belief, std_belief, n_boot=50000):\n",
    "\n",
    "    # Sample heart rates\n",
    "    hr = np.random.normal(loc=mean_hr, scale=std_hr, size=(n_boot, 100))\n",
    "\n",
    "    # Alpha values being tested\n",
    "    alphas = np.repeat([np.arange(-50, 50)], n_boot, axis=0)\n",
    "\n",
    "    # Values of the tones being tested\n",
    "    tones = hr + alphas\n",
    "\n",
    "    # Responses provided by the participant\n",
    "    responses = norm.cdf(tones, loc=mean_belief, scale=std_belief)\n",
    "    \n",
    "    return responses.flatten(), hr.flatten(), alphas.flatten(), tones.flatten()"
   ]
  },
  {
   "cell_type": "code",
   "execution_count": 23,
   "id": "dd14aedf-8f67-40a0-aee2-532445c23454",
   "metadata": {},
   "outputs": [],
   "source": [
    "responses, hr, alphas, tones = data(60, 10, 60, 0.001)"
   ]
  },
  {
   "cell_type": "code",
   "execution_count": 24,
   "id": "19ebeb95-b68d-4e4d-8a10-12718e7834f6",
   "metadata": {},
   "outputs": [],
   "source": [
    "import pymc as pm\n",
    "import aesara.tensor as at"
   ]
  },
  {
   "cell_type": "code",
   "execution_count": 25,
   "id": "a0ca9ce3-20bf-402f-b861-212ad0739ecb",
   "metadata": {},
   "outputs": [],
   "source": [
    "def cumulative_normal(x, alpha, beta):\n",
    "    \"\"\"Cumulative distribution function for the standard normal distribution\"\"\"\n",
    "    return 0.5 + 0.5 * at.erf((x - alpha) / (beta * at.sqrt(2)))"
   ]
  },
  {
   "cell_type": "code",
   "execution_count": 27,
   "id": "c5e8ab94-ef2e-4266-8d83-078b7c7ab05a",
   "metadata": {},
   "outputs": [
    {
     "ename": "AttributeError",
     "evalue": "__enter__",
     "output_type": "error",
     "traceback": [
      "\u001b[1;31m---------------------------------------------------------------------------\u001b[0m",
      "\u001b[1;31mAttributeError\u001b[0m                            Traceback (most recent call last)",
      "\u001b[1;32m~\\AppData\\Local\\Temp/ipykernel_6540/2849449183.py\u001b[0m in \u001b[0;36m<module>\u001b[1;34m\u001b[0m\n\u001b[1;32m----> 1\u001b[1;33m \u001b[1;32mwith\u001b[0m \u001b[0mpm\u001b[0m\u001b[1;33m.\u001b[0m\u001b[0mModel\u001b[0m\u001b[1;33m(\u001b[0m\u001b[1;33m)\u001b[0m\u001b[1;33m:\u001b[0m\u001b[1;33m\u001b[0m\u001b[1;33m\u001b[0m\u001b[0m\n\u001b[0m\u001b[0;32m      2\u001b[0m     \u001b[0mmu_heart_rate\u001b[0m \u001b[1;33m=\u001b[0m \u001b[0mpm\u001b[0m\u001b[1;33m.\u001b[0m\u001b[0mUniform\u001b[0m\u001b[1;33m(\u001b[0m\u001b[1;34m\"mu_heart_rate\"\u001b[0m\u001b[1;33m,\u001b[0m \u001b[0mlower\u001b[0m\u001b[1;33m=\u001b[0m\u001b[1;36m20.0\u001b[0m\u001b[1;33m,\u001b[0m \u001b[0mupper\u001b[0m\u001b[1;33m=\u001b[0m\u001b[1;36m120.0\u001b[0m\u001b[1;33m)\u001b[0m\u001b[1;33m\u001b[0m\u001b[1;33m\u001b[0m\u001b[0m\n\u001b[0;32m      3\u001b[0m     \u001b[0msigma_heart_rate\u001b[0m \u001b[1;33m=\u001b[0m \u001b[0mpm\u001b[0m\u001b[1;33m.\u001b[0m\u001b[0mUniform\u001b[0m\u001b[1;33m(\u001b[0m\u001b[1;34m\"sigma_heart_rate\"\u001b[0m\u001b[1;33m,\u001b[0m \u001b[0mlower\u001b[0m\u001b[1;33m=\u001b[0m\u001b[1;36m.001\u001b[0m\u001b[1;33m,\u001b[0m \u001b[0mupper\u001b[0m\u001b[1;33m=\u001b[0m\u001b[1;36m30.0\u001b[0m\u001b[1;33m)\u001b[0m\u001b[1;33m\u001b[0m\u001b[1;33m\u001b[0m\u001b[0m\n\u001b[0;32m      4\u001b[0m     \u001b[0mheart_rate\u001b[0m \u001b[1;33m=\u001b[0m \u001b[0mpm\u001b[0m\u001b[1;33m.\u001b[0m\u001b[0mNormal\u001b[0m\u001b[1;33m(\u001b[0m\u001b[1;34m\"heart_rate\"\u001b[0m\u001b[1;33m,\u001b[0m \u001b[0mmu\u001b[0m\u001b[1;33m=\u001b[0m\u001b[0mmu_heart_rate\u001b[0m\u001b[1;33m,\u001b[0m \u001b[0msigma\u001b[0m\u001b[1;33m=\u001b[0m\u001b[0msigma_heart_rate\u001b[0m\u001b[1;33m,\u001b[0m \u001b[0mobserved\u001b[0m\u001b[1;33m=\u001b[0m\u001b[0mhr\u001b[0m\u001b[1;33m)\u001b[0m\u001b[1;33m\u001b[0m\u001b[1;33m\u001b[0m\u001b[0m\n",
      "\u001b[1;31mAttributeError\u001b[0m: __enter__"
     ]
    }
   ],
   "source": [
    "with pm.Model():\n",
    "    mu_heart_rate = pm.Uniform(\"mu_heart_rate\", lower=20.0, upper=120.0)\n",
    "    sigma_heart_rate = pm.Uniform(\"sigma_heart_rate\", lower=.001, upper=30.0)\n",
    "    heart_rate = pm.Normal(\"heart_rate\", mu=mu_heart_rate, sigma=sigma_heart_rate, observed=hr)  \n"
   ]
  },
  {
   "cell_type": "code",
   "execution_count": 26,
   "id": "b854d4f4-ef23-4e65-9279-5abd6e31afe8",
   "metadata": {},
   "outputs": [
    {
     "ename": "ValueError",
     "evalue": "No value given for parent tau",
     "output_type": "error",
     "traceback": [
      "\u001b[1;31m---------------------------------------------------------------------------\u001b[0m",
      "\u001b[1;31mKeyError\u001b[0m                                  Traceback (most recent call last)",
      "\u001b[1;32mC:\\ProgramData\\Anaconda3\\lib\\site-packages\\pymc\\distributions.py\u001b[0m in \u001b[0;36m__init__\u001b[1;34m(self, *args, **kwds)\u001b[0m\n\u001b[0;32m    216\u001b[0m                     \u001b[1;32mtry\u001b[0m\u001b[1;33m:\u001b[0m\u001b[1;33m\u001b[0m\u001b[1;33m\u001b[0m\u001b[0m\n\u001b[1;32m--> 217\u001b[1;33m                         \u001b[0mparents\u001b[0m\u001b[1;33m[\u001b[0m\u001b[0mk\u001b[0m\u001b[1;33m]\u001b[0m \u001b[1;33m=\u001b[0m \u001b[0mkwds\u001b[0m\u001b[1;33m.\u001b[0m\u001b[0mpop\u001b[0m\u001b[1;33m(\u001b[0m\u001b[0mk\u001b[0m\u001b[1;33m)\u001b[0m\u001b[1;33m\u001b[0m\u001b[1;33m\u001b[0m\u001b[0m\n\u001b[0m\u001b[0;32m    218\u001b[0m                     \u001b[1;32mexcept\u001b[0m\u001b[1;33m:\u001b[0m\u001b[1;33m\u001b[0m\u001b[1;33m\u001b[0m\u001b[0m\n",
      "\u001b[1;31mKeyError\u001b[0m: 'tau'",
      "\nDuring handling of the above exception, another exception occurred:\n",
      "\u001b[1;31mValueError\u001b[0m                                Traceback (most recent call last)",
      "\u001b[1;32m~\\AppData\\Local\\Temp/ipykernel_6540/783091423.py\u001b[0m in \u001b[0;36m<module>\u001b[1;34m\u001b[0m\n\u001b[0;32m      1\u001b[0m \u001b[0mmu_alpha\u001b[0m \u001b[1;33m=\u001b[0m \u001b[0mpm\u001b[0m\u001b[1;33m.\u001b[0m\u001b[0mUniform\u001b[0m\u001b[1;33m(\u001b[0m\u001b[1;34m\"mu_alpha\"\u001b[0m\u001b[1;33m,\u001b[0m \u001b[0mlower\u001b[0m\u001b[1;33m=\u001b[0m\u001b[1;33m-\u001b[0m\u001b[1;36m50.5\u001b[0m\u001b[1;33m,\u001b[0m \u001b[0mupper\u001b[0m\u001b[1;33m=\u001b[0m\u001b[1;36m50.5\u001b[0m\u001b[1;33m)\u001b[0m\u001b[1;33m\u001b[0m\u001b[1;33m\u001b[0m\u001b[0m\n\u001b[1;32m----> 2\u001b[1;33m \u001b[0msigma_alpha\u001b[0m \u001b[1;33m=\u001b[0m \u001b[0mpm\u001b[0m\u001b[1;33m.\u001b[0m\u001b[0mHalfNormal\u001b[0m\u001b[1;33m(\u001b[0m\u001b[1;34m\"sigma_alpha\"\u001b[0m\u001b[1;33m,\u001b[0m \u001b[0msigma\u001b[0m\u001b[1;33m=\u001b[0m\u001b[1;36m100\u001b[0m\u001b[1;33m)\u001b[0m\u001b[1;33m\u001b[0m\u001b[1;33m\u001b[0m\u001b[0m\n\u001b[0m\u001b[0;32m      3\u001b[0m \u001b[1;33m\u001b[0m\u001b[0m\n\u001b[0;32m      4\u001b[0m \u001b[0mmu_beta\u001b[0m \u001b[1;33m=\u001b[0m \u001b[0mpm\u001b[0m\u001b[1;33m.\u001b[0m\u001b[0mUniform\u001b[0m\u001b[1;33m(\u001b[0m\u001b[1;34m\"mu_beta\"\u001b[0m\u001b[1;33m,\u001b[0m \u001b[0mlower\u001b[0m\u001b[1;33m=\u001b[0m\u001b[1;36m0\u001b[0m\u001b[1;33m,\u001b[0m \u001b[0mupper\u001b[0m\u001b[1;33m=\u001b[0m\u001b[1;36m100\u001b[0m\u001b[1;33m)\u001b[0m\u001b[1;33m\u001b[0m\u001b[1;33m\u001b[0m\u001b[0m\n\u001b[0;32m      5\u001b[0m \u001b[0msigma_beta\u001b[0m \u001b[1;33m=\u001b[0m \u001b[0mpm\u001b[0m\u001b[1;33m.\u001b[0m\u001b[0mHalfNormal\u001b[0m\u001b[1;33m(\u001b[0m\u001b[1;34m\"sigma_beta\"\u001b[0m\u001b[1;33m,\u001b[0m \u001b[0msigma\u001b[0m\u001b[1;33m=\u001b[0m\u001b[1;36m100\u001b[0m\u001b[1;33m)\u001b[0m\u001b[1;33m\u001b[0m\u001b[1;33m\u001b[0m\u001b[0m\n",
      "\u001b[1;32mC:\\ProgramData\\Anaconda3\\lib\\site-packages\\pymc\\distributions.py\u001b[0m in \u001b[0;36m__init__\u001b[1;34m(self, *args, **kwds)\u001b[0m\n\u001b[0;32m    220\u001b[0m                             \u001b[0mparents\u001b[0m\u001b[1;33m[\u001b[0m\u001b[0mk\u001b[0m\u001b[1;33m]\u001b[0m \u001b[1;33m=\u001b[0m \u001b[0mparents_default\u001b[0m\u001b[1;33m[\u001b[0m\u001b[0mk\u001b[0m\u001b[1;33m]\u001b[0m\u001b[1;33m\u001b[0m\u001b[1;33m\u001b[0m\u001b[0m\n\u001b[0;32m    221\u001b[0m                         \u001b[1;32melse\u001b[0m\u001b[1;33m:\u001b[0m\u001b[1;33m\u001b[0m\u001b[1;33m\u001b[0m\u001b[0m\n\u001b[1;32m--> 222\u001b[1;33m                             \u001b[1;32mraise\u001b[0m \u001b[0mValueError\u001b[0m\u001b[1;33m(\u001b[0m\u001b[1;34m'No value given for parent '\u001b[0m \u001b[1;33m+\u001b[0m \u001b[0mk\u001b[0m\u001b[1;33m)\u001b[0m\u001b[1;33m\u001b[0m\u001b[1;33m\u001b[0m\u001b[0m\n\u001b[0m\u001b[0;32m    223\u001b[0m                 \u001b[1;32melif\u001b[0m \u001b[0mk\u001b[0m \u001b[1;32min\u001b[0m \u001b[0marg_dict_out\u001b[0m\u001b[1;33m.\u001b[0m\u001b[0mkeys\u001b[0m\u001b[1;33m(\u001b[0m\u001b[1;33m)\u001b[0m\u001b[1;33m:\u001b[0m\u001b[1;33m\u001b[0m\u001b[1;33m\u001b[0m\u001b[0m\n\u001b[0;32m    224\u001b[0m                     \u001b[1;32mtry\u001b[0m\u001b[1;33m:\u001b[0m\u001b[1;33m\u001b[0m\u001b[1;33m\u001b[0m\u001b[0m\n",
      "\u001b[1;31mValueError\u001b[0m: No value given for parent tau"
     ]
    }
   ],
   "source": [
    "    mu_alpha = pm.Uniform(\"mu_alpha\", lower=-50.5, upper=50.5)\n",
    "    sigma_alpha = pm.HalfNormal(\"sigma_alpha\", sigma=100)\n",
    "\n",
    "    mu_beta = pm.Uniform(\"mu_beta\", lower=0, upper=100)\n",
    "    sigma_beta = pm.HalfNormal(\"sigma_beta\", sigma=100)\n",
    "\n",
    "    alpha = pm.Normal(\"alpha\", mu=mu_alpha, sigma=sigma_alpha, shape=nsubj)\n",
    "\n",
    "    thetaij = pm.Deterministic(\n",
    "        \"thetaij\", cumulative_normal(x_total, alpha[sub_total], beta[sub_total])\n",
    "    )\n",
    "\n",
    "    rij_ = pm.Binomial(\"rij\", p=thetaij, n=n_total, observed=r_total)"
   ]
  },
  {
   "cell_type": "code",
   "execution_count": null,
   "id": "dbe15794-55f9-4592-9b2d-ce577c347c18",
   "metadata": {},
   "outputs": [],
   "source": [
    "with semantic:\n",
    "    trace_semantic = pm.sample(\n",
    "        chains=2, cores=2, tune=1000, draws=1000, return_inferencedata=True\n",
    "    )"
   ]
  }
 ],
 "metadata": {
  "kernelspec": {
   "display_name": "Python 3 (ipykernel)",
   "language": "python",
   "name": "python3"
  },
  "language_info": {
   "codemirror_mode": {
    "name": "ipython",
    "version": 3
   },
   "file_extension": ".py",
   "mimetype": "text/x-python",
   "name": "python",
   "nbconvert_exporter": "python",
   "pygments_lexer": "ipython3",
   "version": "3.7.9"
  }
 },
 "nbformat": 4,
 "nbformat_minor": 5
}
